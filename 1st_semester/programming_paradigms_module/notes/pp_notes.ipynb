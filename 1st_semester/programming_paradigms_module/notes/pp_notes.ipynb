{
 "cells": [
  {
   "cell_type": "markdown",
   "id": "8f14ac55",
   "metadata": {},
   "source": [
    "# LECTURE 10/09/2025\n",
    "\n",
    "\n",
    "\n",
    "## SESSION 1: Introduction to Persistent Data Structures\n",
    "\n"
   ]
  },
  {
   "cell_type": "markdown",
   "id": "c455e454",
   "metadata": {},
   "source": [
    "# LECTURE 24/09/2025\n",
    "\n",
    "## "
   ]
  },
  {
   "cell_type": "markdown",
   "id": "0c933db2",
   "metadata": {},
   "source": []
  },
  {
   "cell_type": "markdown",
   "id": "b9c4b6b7",
   "metadata": {},
   "source": []
  },
  {
   "cell_type": "markdown",
   "id": "116740fc",
   "metadata": {},
   "source": []
  },
  {
   "cell_type": "markdown",
   "id": "b022ee45",
   "metadata": {},
   "source": []
  },
  {
   "cell_type": "markdown",
   "id": "f2539701",
   "metadata": {},
   "source": []
  },
  {
   "cell_type": "markdown",
   "id": "9db2a1bd",
   "metadata": {},
   "source": []
  },
  {
   "cell_type": "markdown",
   "id": "b364e1c9",
   "metadata": {},
   "source": []
  }
 ],
 "metadata": {
  "language_info": {
   "name": "python"
  }
 },
 "nbformat": 4,
 "nbformat_minor": 5
}
